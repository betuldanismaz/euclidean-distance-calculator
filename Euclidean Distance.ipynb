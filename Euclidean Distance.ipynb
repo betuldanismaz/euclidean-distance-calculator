{
 "cells": [
  {
   "cell_type": "code",
   "execution_count": 5,
   "id": "99c4b5e4",
   "metadata": {},
   "outputs": [
    {
     "name": "stdout",
     "output_type": "stream",
     "text": [
      "Generated Points: [(55, 26), (38, 76), (89, 8)]\n",
      "Calculated distance between points (55, 26) and (38, 76): 52.81098370604357\n",
      "Calculated distance between points (55, 26) and (89, 8): 38.47076812334269\n",
      "Calculated distance between points (38, 76) and (89, 8): 85.0\n",
      "Minimum distance is between points (55, 26) and (89, 8): 38.47076812334269\n"
     ]
    }
   ],
   "source": [
    "import random\n",
    "\n",
    "# Function to generate a list of random points within a specified range\n",
    "def generateRandomPoints(num_points, range_min, range_max):\n",
    "    points = []\n",
    "    for _ in range(num_points):\n",
    "        x = random.randint(range_min, range_max)\n",
    "        y = random.randint(range_min, range_max)\n",
    "        points.append((x, y))\n",
    "    return points\n",
    "\n",
    "# Generate 3 random points with coordinates within the range [0, 100]\n",
    "points = generateRandomPoints(3, 0, 100)\n",
    "print(\"Generated Points:\", points)\n",
    "\n",
    "# Function to compute the Euclidean distance between two points in 2D space\n",
    "def euclideanDistance(point1, point2):\n",
    "    return ((point2[0] - point1[0])**2 + (point2[1] - point1[1])**2) ** 0.5\n",
    "\n",
    "# Initialize a list to store the computed distances between point pairs\n",
    "distances = []\n",
    "\n",
    "# Compute the Euclidean distance for each unique pair of points in the list\n",
    "for i in range(len(points)):\n",
    "    for j in range(i + 1, len(points)):\n",
    "        dist = euclideanDistance(points[i], points[j])\n",
    "        distances.append((points[i], points[j], dist))\n",
    "        print(f\"Calculated distance between points {points[i]} and {points[j]}: {dist}\")\n",
    "\n",
    "# Determine the minimum distance from the list of computed distances\n",
    "min_distance_pair = min(distances, key=lambda x: x[2])\n",
    "min_distance = min_distance_pair[2]\n",
    "\n",
    "print(f\"Minimum distance is between points {min_distance_pair[0]} and {min_distance_pair[1]}: {min_distance}\")\n"
   ]
  },
  {
   "cell_type": "code",
   "execution_count": null,
   "id": "8084cc5d",
   "metadata": {},
   "outputs": [],
   "source": []
  }
 ],
 "metadata": {
  "kernelspec": {
   "display_name": "Python 3 (ipykernel)",
   "language": "python",
   "name": "python3"
  },
  "language_info": {
   "codemirror_mode": {
    "name": "ipython",
    "version": 3
   },
   "file_extension": ".py",
   "mimetype": "text/x-python",
   "name": "python",
   "nbconvert_exporter": "python",
   "pygments_lexer": "ipython3",
   "version": "3.11.5"
  }
 },
 "nbformat": 4,
 "nbformat_minor": 5
}
